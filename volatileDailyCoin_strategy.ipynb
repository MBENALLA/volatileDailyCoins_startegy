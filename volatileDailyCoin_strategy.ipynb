{
 "cells": [
  {
   "cell_type": "code",
   "execution_count": 1,
   "id": "58396d23",
   "metadata": {},
   "outputs": [],
   "source": [
    "# include your api_key and secret_key from your binance account\n",
    "%run binance_keys.ipynb"
   ]
  },
  {
   "cell_type": "code",
   "execution_count": 2,
   "id": "f9eab0a2",
   "metadata": {},
   "outputs": [],
   "source": [
    "from binance import Client"
   ]
  },
  {
   "cell_type": "code",
   "execution_count": 3,
   "id": "7b44569d",
   "metadata": {},
   "outputs": [],
   "source": [
    "import pandas as pd\n",
    "import time"
   ]
  },
  {
   "cell_type": "code",
   "execution_count": 4,
   "id": "9134a5dd",
   "metadata": {},
   "outputs": [],
   "source": [
    "client = Client(api_key, api_secret)"
   ]
  },
  {
   "cell_type": "code",
   "execution_count": 35,
   "id": "e105ca7d",
   "metadata": {},
   "outputs": [],
   "source": [
    "def get_top_symbol():\n",
    "    df = pd.DataFrame(client.get_ticker())\n",
    "    df_allusdt = df[df.symbol.str.contains('USDT')]\n",
    "    df_spot_usdt = df_allusdt[~((df_allusdt.symbol.str.contains('UP')) | (df_allusdt.symbol\n",
    "                                                                     .str.contains('DOWN')))]\n",
    "    df_spot_usdt = df_spot_usdt[df_spot_usdt.priceChangePercent == df_spot_usdt.priceChangePercent.max()]\n",
    "    return df_spot_usdt['symbol'].values[0]"
   ]
  },
  {
   "cell_type": "code",
   "execution_count": 36,
   "id": "f495c1ef",
   "metadata": {},
   "outputs": [
    {
     "data": {
      "text/plain": [
       "'ALCXUSDT'"
      ]
     },
     "execution_count": 36,
     "metadata": {},
     "output_type": "execute_result"
    }
   ],
   "source": [
    "get_top_symbol()"
   ]
  },
  {
   "cell_type": "code",
   "execution_count": 37,
   "id": "6422727b",
   "metadata": {},
   "outputs": [],
   "source": [
    "def get_minute_data(symbol, interal, lookback):\n",
    "    df = pd.DataFrame(client.get_historical_klines(symbol,\n",
    "                                                  interal,\n",
    "                                                  lookback + ' min ago UTC'))\n",
    "    df = df.iloc[:,:6]\n",
    "    df.columns = ['Time','Open','High','Low','Close','Volume']\n",
    "    df = df.set_index('Time')\n",
    "    df.index = pd.to_datetime(df.index, unit='ms')\n",
    "    df = df.astype(float)\n",
    "    return df"
   ]
  },
  {
   "cell_type": "code",
   "execution_count": 38,
   "id": "808a47db",
   "metadata": {},
   "outputs": [],
   "source": [
    "var = get_minute_data(get_top_symbol(), '1m', '5')"
   ]
  },
  {
   "cell_type": "code",
   "execution_count": 28,
   "id": "f23b31b2",
   "metadata": {},
   "outputs": [],
   "source": [
    "def strategy(amount, SL=0.985, traget=1.02, open_position=False):\n",
    "    try:\n",
    "        asset = get_top_symbol()\n",
    "        df = get_minute_data(asset, '1m', '60')\n",
    "    except:\n",
    "        time.sleep(61)\n",
    "        asset = get_top_symbol()\n",
    "        df = get_minute_data(asset, '1m', '60')\n",
    "    quantity = round(amount/df.Close.iloc[-1])\n",
    "    if (df.Close.pct_change()+1).cumprod().iloc[-1] > 1:\n",
    "        buy_order = client.create_order(symbol=asset,\n",
    "                                       side='BUY',\n",
    "                                       type='MARKET',\n",
    "                                       quantity=quantity)\n",
    "        print(buy_order)\n",
    "        buy_price = float(buy_order['fills'][0]['price'])\n",
    "        open_position = True\n",
    "        while open_position:\n",
    "            try:\n",
    "                df = get_minute_data(asset, '1m', '2')\n",
    "            except:\n",
    "                print('Something went wrong. Bot continues in 1 min')\n",
    "                time.sleep(61)\n",
    "                df = get_minute_data(asset, '1m', '2')\n",
    "            print(f'current close is' + str(df.Close[-1]))\n",
    "            print(f'current target is' + str(buy_price*target))\n",
    "            print(f'current stop is' + str(buy_price*SL))\n",
    "            if df.Close[-1] <= buy_price*SL or df.Close[-1] >= buy_price*Target:\n",
    "                buy_order = client.create_order(symbol=asset,\n",
    "                                       side='SELL',\n",
    "                                       type='MARKET',\n",
    "                                       quantity=quantity)\n",
    "                print(order)\n",
    "                break"
   ]
  },
  {
   "cell_type": "code",
   "execution_count": null,
   "id": "07ec9b5c",
   "metadata": {},
   "outputs": [],
   "source": [
    "# using binance api\n",
    "# while True:\n",
    "#     strategy()"
   ]
  },
  {
   "cell_type": "code",
   "execution_count": null,
   "id": "d109c272",
   "metadata": {},
   "outputs": [],
   "source": [
    "# using web socket manager"
   ]
  },
  {
   "cell_type": "code",
   "execution_count": 29,
   "id": "f2be20b4",
   "metadata": {},
   "outputs": [],
   "source": [
    "def createframe(msg):\n",
    "    df = pd.DataFrame([msg])\n",
    "    df = df.loc[:,['s','E','p']]\n",
    "    df.columns = ['symbol', 'Time', 'Price']\n",
    "    df.Price = df.Price.astype(float)\n",
    "    df.Time = pd.to_datetime(df.Time, unit='ms')\n",
    "    return df"
   ]
  },
  {
   "cell_type": "code",
   "execution_count": 30,
   "id": "942b97f1",
   "metadata": {},
   "outputs": [],
   "source": [
    "from binance import BinanceSocketManager"
   ]
  },
  {
   "cell_type": "code",
   "execution_count": 31,
   "id": "7e3c7630",
   "metadata": {},
   "outputs": [],
   "source": [
    "bsm = BinanceSocketManager(client)"
   ]
  },
  {
   "cell_type": "code",
   "execution_count": 32,
   "id": "6c5ddeb9",
   "metadata": {},
   "outputs": [],
   "source": [
    "async def strategy_method_2(amount, SL=0.985, traget=1.02, open_position=False):\n",
    "    try:\n",
    "        asset = get_top_symbol()\n",
    "        #df = get_minute_data(asset, '1m', '60')\n",
    "    except:\n",
    "        time.sleep(61)\n",
    "        asset = get_top_symbol()\n",
    "        #df = get_minute_data(asset, '1m', '60')\n",
    "    socket = bsm.trade_socket(asset)\n",
    "    df = get_minute_data(asset, '1m', '60')\n",
    "    quantity = round(amount/df.Close.iloc[-1])\n",
    "    if (df.Close.pct_change()+1).cumprod().iloc[-1] > 1:\n",
    "        buy_order = client.create_order(symbol=asset,\n",
    "                                       side='BUY',\n",
    "                                       type='MARKET',\n",
    "                                       quantity=quantity)\n",
    "        print(buy_order)\n",
    "        buy_price = float(buy_order['fills'][0]['price'])\n",
    "        open_position = True\n",
    "        while open_position:\n",
    "            await socket.__aenter__()\n",
    "            msg = await socket.recv()\n",
    "            df = createframe(msg)\n",
    "            print(f'current close is' + str(df.Close[-1]))\n",
    "            print(f'current target is' + str(buy_price*target))\n",
    "            print(f'current stop is' + str(buy_price*SL))\n",
    "            if df.Close[-1] <= buy_price*SL or df.Close[-1] >= buy_price*Target:\n",
    "                buy_order = client.create_order(symbol=asset,\n",
    "                                       side='SELL',\n",
    "                                       type='MARKET',\n",
    "                                       quantity=quantity)\n",
    "                print(order)\n",
    "                break"
   ]
  },
  {
   "cell_type": "code",
   "execution_count": null,
   "id": "c7484eae",
   "metadata": {},
   "outputs": [],
   "source": [
    "# while True:\n",
    "#     await strategy_method_2()"
   ]
  }
 ],
 "metadata": {
  "kernelspec": {
   "display_name": "Python [conda env:talts] *",
   "language": "python",
   "name": "conda-env-talts-py"
  },
  "language_info": {
   "codemirror_mode": {
    "name": "ipython",
    "version": 3
   },
   "file_extension": ".py",
   "mimetype": "text/x-python",
   "name": "python",
   "nbconvert_exporter": "python",
   "pygments_lexer": "ipython3",
   "version": "3.8.12"
  }
 },
 "nbformat": 4,
 "nbformat_minor": 5
}
